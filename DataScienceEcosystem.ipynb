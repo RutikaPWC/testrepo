{
 "cells": [
  {
   "cell_type": "markdown",
   "id": "b9c2b375",
   "metadata": {},
   "source": [
    "# Data Science Tools and Ecosystem"
   ]
  },
  {
   "cell_type": "markdown",
   "id": "29a65ef5",
   "metadata": {},
   "source": [
    "In this notebook, Data Science Tools and Ecosystem are summarized."
   ]
  },
  {
   "cell_type": "markdown",
   "id": "77aa9e93",
   "metadata": {},
   "source": [
    "Some of the popular languages that Data Scientists use are:\n",
    "1] Python\n",
    "2] R\n",
    "3] Java\n",
    "4] SQL\n",
    "5] Java\n",
    "6] Scala\n",
    "7] Matlab"
   ]
  },
  {
   "cell_type": "markdown",
   "id": "c30cb75d",
   "metadata": {},
   "source": [
    "Some of the commonly used libraries used by Data Scientists include:\n",
    "    1] Numpy\n",
    "    2] Pandas\n",
    "    3] Matplotlib\n",
    "    4] Seaborn\n",
    "    5] Scikit-learn\n",
    "    6] TensorFlow and Keras\n",
    "    7] PyTorch\n",
    "    8] Scipy\n",
    "    9] Statsmodels\n",
    "    10] NLTK "
   ]
  },
  {
   "cell_type": "markdown",
   "id": "88f1d300",
   "metadata": {},
   "source": [
    "| Data Science Tools    |\n",
    "|-----------------------|\n",
    "| Jupyter Notebook      |\n",
    "| RStudio               |\n",
    "| VS Code with Extensions|\n"
   ]
  },
  {
   "cell_type": "markdown",
   "id": "6324a1b7",
   "metadata": {},
   "source": [
    "## Below are a few examples of evaluating arithmetic expressions in Python\n"
   ]
  },
  {
   "cell_type": "code",
   "execution_count": 1,
   "id": "e1b37dee",
   "metadata": {},
   "outputs": [
    {
     "data": {
      "text/plain": [
       "17"
      ]
     },
     "execution_count": 1,
     "metadata": {},
     "output_type": "execute_result"
    }
   ],
   "source": [
    "#This a simple arithmetic expression to mutiply then add integers.\n",
    "(3*4)+5"
   ]
  },
  {
   "cell_type": "code",
   "execution_count": 3,
   "id": "79a71ace",
   "metadata": {},
   "outputs": [
    {
     "name": "stdout",
     "output_type": "stream",
     "text": [
      "3.3333333333333335\n"
     ]
    }
   ],
   "source": [
    "#This will convert 200 minutes to hours by diving by 60\n",
    "hours = 200/60\n",
    "print(hours)"
   ]
  },
  {
   "cell_type": "markdown",
   "id": "76a5daf1",
   "metadata": {},
   "source": [
    "__Objectives:__\n",
    "- Python\n",
    "- R\n",
    "- SQL\n",
    "- Julia\n",
    "- Java\n",
    "- Scala\n",
    "- MATLAB\n",
    "- JavaScript"
   ]
  },
  {
   "cell_type": "markdown",
   "id": "a35bd61d",
   "metadata": {},
   "source": [
    "## Author\n",
    "RutikaPWC"
   ]
  }
 ],
 "metadata": {
  "kernelspec": {
   "display_name": "Python 3 (ipykernel)",
   "language": "python",
   "name": "python3"
  },
  "language_info": {
   "codemirror_mode": {
    "name": "ipython",
    "version": 3
   },
   "file_extension": ".py",
   "mimetype": "text/x-python",
   "name": "python",
   "nbconvert_exporter": "python",
   "pygments_lexer": "ipython3",
   "version": "3.9.7"
  }
 },
 "nbformat": 4,
 "nbformat_minor": 5
}
